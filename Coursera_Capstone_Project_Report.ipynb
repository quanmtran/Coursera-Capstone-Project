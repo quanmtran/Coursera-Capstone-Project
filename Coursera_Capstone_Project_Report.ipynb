{
  "nbformat": 4,
  "nbformat_minor": 0,
  "metadata": {
    "colab": {
      "name": "Coursera Capstone Project - Suburbs in Melbourne - Report",
      "provenance": [],
      "collapsed_sections": [],
      "authorship_tag": "ABX9TyPgMCeMZWnUipsFspJavnkZ",
      "include_colab_link": true
    },
    "kernelspec": {
      "name": "python3",
      "display_name": "Python 3"
    }
  },
  "cells": [
    {
      "cell_type": "markdown",
      "metadata": {
        "id": "view-in-github",
        "colab_type": "text"
      },
      "source": [
        "<a href=\"https://colab.research.google.com/github/quanmtran/Coursera_Capstone/blob/main/Coursera_Capstone_Project_Report.ipynb\" target=\"_parent\"><img src=\"https://colab.research.google.com/assets/colab-badge.svg\" alt=\"Open In Colab\"/></a>"
      ]
    },
    {
      "cell_type": "markdown",
      "metadata": {
        "id": "i98oe-VewOmw"
      },
      "source": [
        "# **Coursera Capstone Project - Suburbs in Melbourne, VIC, Australia**\n",
        "*by Quan Tran*"
      ]
    },
    {
      "cell_type": "markdown",
      "metadata": {
        "id": "uVv10KUGa3TW"
      },
      "source": [
        "## **1. Introduction**\n",
        "\n",
        "\n"
      ]
    },
    {
      "cell_type": "markdown",
      "metadata": {
        "id": "6f1za6P3b3B-"
      },
      "source": [
        "Melbourne is one among the world's most liveable cities which has been attracting many international students from different countries around the globe. The city was ranked the third best student city in the world according to [QS Best Student Cities 2019](https://www.topuniversities.com/city-rankings/2019). However, before moving into a brand new city, international students will probably have a lot of questions need to be answered. As starters, when he/she has an idea of where their education provider is located, the first question that comes into their mind would be where to live. While it is better to find a place that is not far away from school, there are other factors that need to be taken into consideration like how close it is to venues in need, for example, supermarkets, grocery stores and recreational areas. Understanding these concerns, we have done this data-driven analysis project to explore the suburbs in Melbourne, targeting at international students who are about to come to the city. We hope that our findings would help those newcomers to have a better idea about different suburbs in Melbourne in order to make a decision on where they want to reside in."
      ]
    },
    {
      "cell_type": "markdown",
      "metadata": {
        "id": "s5L2hiXibMc1"
      },
      "source": [
        "## **2. Data**"
      ]
    },
    {
      "cell_type": "markdown",
      "metadata": {
        "id": "8W7bHihTf31w"
      },
      "source": [
        "\n",
        "We decided to narrow our scope on suburbs within Melbourne's metropolitan area, as opposed to regional area. \n",
        "\n",
        "*   We have found and scraped suburb names and coordinates from this [web page](https://www.geonames.org/postal-codes/AU/VIC/victoria.html). The coordinates will be used to visualize the suburbs on an interactive map and to explore nearby areas. However, there are still suburbs missing from this list. We would still carry on with our analysis on this dataset since it is the most efficient way for us to collect such amount of geographical data. This issue of insufficient data needs to be addressed in future improvement.\n",
        "*   We have used Foursquare API to retrieve nearby venues around each suburb based on its coordinates. The suburbs will then be explored and grouped together based on their similarity in terms of what venue category and how many of them can be found in the area.\n",
        "\n"
      ]
    }
  ]
}